{
  "nbformat": 4,
  "nbformat_minor": 0,
  "metadata": {
    "kernelspec": {
      "display_name": "Python 2",
      "language": "python",
      "name": "python2"
    },
    "language_info": {
      "codemirror_mode": {
        "name": "ipython",
        "version": 2
      },
      "file_extension": ".py",
      "mimetype": "text/x-python",
      "name": "python",
      "nbconvert_exporter": "python",
      "pygments_lexer": "ipython2",
      "version": "2.7.18"
    },
    "colab": {
      "name": "molecular_autoencoder.ipynb",
      "provenance": [],
      "collapsed_sections": []
    }
  },
  "cells": [
    {
      "cell_type": "code",
      "metadata": {
        "colab": {
          "base_uri": "https://localhost:8080/"
        },
        "id": "1OibAoBtUta4",
        "outputId": "1ac28930-3b3f-4a21-81d7-988ad11790c8"
      },
      "source": [
        "import numpy as np\n",
        "import tensorflow as tf\n",
        "import keras"
      ],
      "execution_count": 1,
      "outputs": [
        {
          "output_type": "stream",
          "text": [
            "Using TensorFlow backend.\n"
          ],
          "name": "stderr"
        }
      ]
    },
    {
      "cell_type": "code",
      "metadata": {
        "id": "97quG1HfUta6"
      },
      "source": [
        "#https://iwatobipen.wordpress.com/2017/01/22/encode-and-decode-smiles-strings/\n",
        "\n",
        "SMILES_CHARS = [' ',\n",
        "                  '#', '%', '(', ')', '+', '-', '.', '/',\n",
        "                  '0', '1', '2', '3', '4', '5', '6', '7', '8', '9',\n",
        "                  '=', '@',\n",
        "                  'A', 'B', 'C', 'F', 'H', 'I', 'K', 'L', 'M', 'N', 'O', 'P',\n",
        "                  'R', 'S', 'T', 'V', 'X', 'Z',\n",
        "                  '[', '\\\\', ']',\n",
        "                  'a', 'b', 'c', 'e', 'g', 'i', 'l', 'n', 'o', 'p', 'r', 's',\n",
        "                  't', 'u',':','d','G','h','W','U','D','y','Y']\n",
        "smi2index = dict( (c,i) for i,c in enumerate( SMILES_CHARS ) )\n",
        "index2smi = dict( (i,c) for i,c in enumerate( SMILES_CHARS ) )\n",
        "def smiles_encoder( smiles, maxlen=1000 ):\n",
        "    smiles =smiles\n",
        "    X = np.zeros( ( maxlen, len( SMILES_CHARS ) ) )\n",
        "    for i, c in enumerate( smiles ):\n",
        "        X[i, smi2index[c] ] = 1\n",
        "    return X\n",
        " \n",
        "def smiles_decoder( X ):\n",
        "    smi = ''\n",
        "    X = X.argmax( axis=-1 )\n",
        "    for i in X:\n",
        "        smi += index2smi[ i ]\n",
        "    return smi"
      ],
      "execution_count": 2,
      "outputs": []
    },
    {
      "cell_type": "code",
      "metadata": {
        "id": "qAoMT4vYUta7"
      },
      "source": [
        "#!git clone https://github.com/topazape/LSTM_Chem\n",
        "\n",
        "\n",
        "\n",
        "text_file = open(\"LSTM_Chem/datasets/dataset_cleansed.smi\", \"r\")\n",
        "lines = text_file.read().splitlines()\n",
        "smiles2=lines"
      ],
      "execution_count": 3,
      "outputs": []
    },
    {
      "cell_type": "code",
      "metadata": {
        "id": "WewDn_hnUta9"
      },
      "source": [
        "#Taking only 10000 molecules\n",
        "import numpy as np\n",
        "X=[smiles_encoder(i) for i in smiles2[0:10000]]"
      ],
      "execution_count": 12,
      "outputs": []
    },
    {
      "cell_type": "code",
      "metadata": {
        "id": "8S1d80_RYJR9"
      },
      "source": [
        "X=np.array(X)"
      ],
      "execution_count": 13,
      "outputs": []
    },
    {
      "cell_type": "code",
      "metadata": {
        "id": "SbPi1zvJZP0c"
      },
      "source": [
        "import keras, keras.layers as L, keras.backend as K"
      ],
      "execution_count": 14,
      "outputs": []
    },
    {
      "cell_type": "code",
      "metadata": {
        "id": "E0efaAw-Uta-"
      },
      "source": [
        "def build_deep_autoencoder(seq_shape, code_size):\n",
        "\n",
        "    # encoder\n",
        "    encoder = keras.models.Sequential()\n",
        "    encoder.add(L.InputLayer(seq_shape))\n",
        "    \n",
        "    encoder.add(L.LSTM(100, return_sequences='True'))\n",
        "    encoder.add(L.TimeDistributed(L.Dense(100)))\n",
        "    encoder.add(L.Dropout(0.5))\n",
        "    encoder.add(L.Flatten())\n",
        "    encoder.add(L.Dense(code_size))\n",
        "\n",
        "    # decoder\n",
        "    decoder = keras.models.Sequential()\n",
        "    decoder.add(L.InputLayer((code_size,)))\n",
        "    decoder.add(L.Dropout(0.5))\n",
        "    decoder.add(L.Dense(1000*65))\n",
        "    decoder.add(L.Reshape((1000, 65)))\n",
        "    decoder.add(L.LSTM(65, return_sequences='True'))\n",
        "    return encoder, decoder"
      ],
      "execution_count": 26,
      "outputs": []
    },
    {
      "cell_type": "code",
      "metadata": {
        "colab": {
          "base_uri": "https://localhost:8080/"
        },
        "id": "CMdqm3LqUta_",
        "outputId": "d26908b5-a87f-4ce2-b60b-fa53b09dec3c"
      },
      "source": [
        "seq_shape=X[0].shape\n",
        "code_size=2\n",
        "encoder, decoder = build_deep_autoencoder(seq_shape, code_size=2)\n",
        "encoder.summary()\n",
        "decoder.summary()"
      ],
      "execution_count": 27,
      "outputs": [
        {
          "output_type": "stream",
          "text": [
            "Model: \"sequential_11\"\n",
            "_________________________________________________________________\n",
            "Layer (type)                 Output Shape              Param #   \n",
            "=================================================================\n",
            "lstm_10 (LSTM)               (None, 1000, 100)         66400     \n",
            "_________________________________________________________________\n",
            "time_distributed_6 (TimeDist (None, 1000, 100)         10100     \n",
            "_________________________________________________________________\n",
            "dropout_11 (Dropout)         (None, 1000, 100)         0         \n",
            "_________________________________________________________________\n",
            "flatten_6 (Flatten)          (None, 100000)            0         \n",
            "_________________________________________________________________\n",
            "dense_34 (Dense)             (None, 2)                 200002    \n",
            "=================================================================\n",
            "Total params: 276,502\n",
            "Trainable params: 276,502\n",
            "Non-trainable params: 0\n",
            "_________________________________________________________________\n",
            "Model: \"sequential_12\"\n",
            "_________________________________________________________________\n",
            "Layer (type)                 Output Shape              Param #   \n",
            "=================================================================\n",
            "dropout_12 (Dropout)         (None, 2)                 0         \n",
            "_________________________________________________________________\n",
            "dense_35 (Dense)             (None, 65000)             195000    \n",
            "_________________________________________________________________\n",
            "reshape_7 (Reshape)          (None, 1000, 65)          0         \n",
            "_________________________________________________________________\n",
            "lstm_11 (LSTM)               (None, 1000, 65)          34060     \n",
            "=================================================================\n",
            "Total params: 229,060\n",
            "Trainable params: 229,060\n",
            "Non-trainable params: 0\n",
            "_________________________________________________________________\n"
          ],
          "name": "stdout"
        }
      ]
    },
    {
      "cell_type": "code",
      "metadata": {
        "id": "QYBViaDaUtbA"
      },
      "source": [
        "encoder, decoder = build_deep_autoencoder(seq_shape, code_size=2)\n",
        "\n",
        "inp = L.Input(seq_shape)\n",
        "code = encoder(inp)\n",
        "reconstruction = decoder(code)\n",
        "\n",
        "autoencoder = keras.models.Model(inputs=inp, outputs=reconstruction)\n",
        "autoencoder.compile(optimizer=\"adamax\", loss='mse')"
      ],
      "execution_count": 28,
      "outputs": []
    },
    {
      "cell_type": "code",
      "metadata": {
        "scrolled": false,
        "colab": {
          "base_uri": "https://localhost:8080/"
        },
        "id": "Zy8DvYUXUtbA",
        "outputId": "bdd423f8-f42a-4791-8230-7783522f59ab"
      },
      "source": [
        "#Fitting for 10 iterations. This hyperparameter can be fine-tuned.\n",
        "autoencoder.fit(x=X, y=X, epochs=10,verbose=1)"
      ],
      "execution_count": 29,
      "outputs": [
        {
          "output_type": "stream",
          "text": [
            "Epoch 1/10\n",
            "10000/10000 [==============================] - 571s 57ms/step - loss: 7.0004e-04\n",
            "Epoch 2/10\n",
            "10000/10000 [==============================] - 572s 57ms/step - loss: 6.8668e-04\n",
            "Epoch 3/10\n",
            "10000/10000 [==============================] - 572s 57ms/step - loss: 6.8594e-04\n",
            "Epoch 4/10\n",
            "10000/10000 [==============================] - 573s 57ms/step - loss: 6.8530e-04\n",
            "Epoch 5/10\n",
            "10000/10000 [==============================] - 573s 57ms/step - loss: 6.8455e-04\n",
            "Epoch 6/10\n",
            "10000/10000 [==============================] - 571s 57ms/step - loss: 6.8391e-04\n",
            "Epoch 7/10\n",
            "10000/10000 [==============================] - 570s 57ms/step - loss: 6.8336e-04\n",
            "Epoch 8/10\n",
            "10000/10000 [==============================] - 572s 57ms/step - loss: 6.8279e-04\n",
            "Epoch 9/10\n",
            "10000/10000 [==============================] - 572s 57ms/step - loss: 6.8251e-04\n",
            "Epoch 10/10\n",
            "10000/10000 [==============================] - 573s 57ms/step - loss: 6.8189e-04\n"
          ],
          "name": "stdout"
        },
        {
          "output_type": "execute_result",
          "data": {
            "text/plain": [
              "<keras.callbacks.callbacks.History at 0x7f52c65c9910>"
            ]
          },
          "metadata": {
            "tags": []
          },
          "execution_count": 29
        }
      ]
    },
    {
      "cell_type": "code",
      "metadata": {
        "id": "UbVmfK0kUtbB"
      },
      "source": [
        "encoded=encoder.predict(X)"
      ],
      "execution_count": 30,
      "outputs": []
    },
    {
      "cell_type": "code",
      "metadata": {
        "colab": {
          "base_uri": "https://localhost:8080/",
          "height": 269
        },
        "id": "DPRHix-LUtbB",
        "outputId": "71a92fa3-52ff-4794-8ed3-aa38b406f7ae"
      },
      "source": [
        "import matplotlib.pyplot as plt\n",
        "plt.scatter(encoded.T[0], encoded.T[1], color='b')\n",
        "plt.show()"
      ],
      "execution_count": 31,
      "outputs": [
        {
          "output_type": "display_data",
          "data": {
            "image/png": "[encoded data removed]",
            "text/plain": [
              "<Figure size 432x288 with 1 Axes>"
            ]
          },
          "metadata": {
            "tags": [],
            "needs_background": "light"
          }
        }
      ]
    },
    {
      "cell_type": "code",
      "metadata": {
        "colab": {
          "base_uri": "https://localhost:8080/"
        },
        "id": "rMy7r5furHB9",
        "outputId": "ad60ff6d-4f43-4a7e-a2ed-e12ec61ffa81"
      },
      "source": [
        "#MSE on the training set\n",
        "autoencoder.evaluate(X,X)"
      ],
      "execution_count": 43,
      "outputs": [
        {
          "output_type": "stream",
          "text": [
            "10000/10000 [==============================] - 192s 19ms/step\n"
          ],
          "name": "stdout"
        },
        {
          "output_type": "execute_result",
          "data": {
            "text/plain": [
              "0.0006730647327378392"
            ]
          },
          "metadata": {
            "tags": []
          },
          "execution_count": 43
        }
      ]
    }
  ]
}