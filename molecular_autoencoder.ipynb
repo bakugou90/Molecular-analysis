{
 "cells": [
  {
   "cell_type": "code",
   "execution_count": 3,
   "metadata": {},
   "outputs": [
    {
     "name": "stderr",
     "output_type": "stream",
     "text": [
      "Using TensorFlow backend.\n"
     ]
    }
   ],
   "source": [
    "import numpy as np\n",
    "import tensorflow as tf\n",
    "import keras"
   ]
  },
  {
   "cell_type": "code",
   "execution_count": 4,
   "metadata": {},
   "outputs": [],
   "source": [
    "#https://iwatobipen.wordpress.com/2017/01/22/encode-and-decode-smiles-strings/\n",
    "\n",
    "SMILES_CHARS = [' ',\n",
    "                  '#', '%', '(', ')', '+', '-', '.', '/',\n",
    "                  '0', '1', '2', '3', '4', '5', '6', '7', '8', '9',\n",
    "                  '=', '@',\n",
    "                  'A', 'B', 'C', 'F', 'H', 'I', 'K', 'L', 'M', 'N', 'O', 'P',\n",
    "                  'R', 'S', 'T', 'V', 'X', 'Z',\n",
    "                  '[', '\\\\', ']',\n",
    "                  'a', 'b', 'c', 'e', 'g', 'i', 'l', 'n', 'o', 'p', 'r', 's',\n",
    "                  't', 'u',':','d','G','h','W','U','D','y','Y']\n",
    "smi2index = dict( (c,i) for i,c in enumerate( SMILES_CHARS ) )\n",
    "index2smi = dict( (i,c) for i,c in enumerate( SMILES_CHARS ) )\n",
    "def smiles_encoder( smiles, maxlen=1000 ):\n",
    "    smiles =smiles\n",
    "    X = np.zeros( ( maxlen, len( SMILES_CHARS ) ) )\n",
    "    for i, c in enumerate( smiles ):\n",
    "        X[i, smi2index[c] ] = 1\n",
    "    return X\n",
    " \n",
    "def smiles_decoder( X ):\n",
    "    smi = ''\n",
    "    X = X.argmax( axis=-1 )\n",
    "    for i in X:\n",
    "        smi += index2smi[ i ]\n",
    "    return smi"
   ]
  },
  {
   "cell_type": "code",
   "execution_count": 6,
   "metadata": {},
   "outputs": [],
   "source": [
    "#Dataset  https://github.com/topazape/LSTM_Chem\n",
    "\n",
    "text_file = open(\"dataset_cleansed.smi\", \"r\")\n",
    "lines = text_file.read().splitlines()\n",
    "smiles2=lines"
   ]
  },
  {
   "cell_type": "code",
   "execution_count": 5,
   "metadata": {},
   "outputs": [
    {
     "data": {
      "text/plain": [
       "50000"
      ]
     },
     "execution_count": 5,
     "metadata": {},
     "output_type": "execute_result"
    }
   ],
   "source": [
    "len(valid_mols)"
   ]
  },
  {
   "cell_type": "code",
   "execution_count": 6,
   "metadata": {},
   "outputs": [
    {
     "data": {
      "text/plain": [
       "50000"
      ]
     },
     "execution_count": 6,
     "metadata": {},
     "output_type": "execute_result"
    }
   ],
   "source": [
    "len(smiles2)"
   ]
  },
  {
   "cell_type": "code",
   "execution_count": null,
   "metadata": {},
   "outputs": [],
   "source": [
    "X=np.array([smiles_encoder(i) for i in smiles2[0:50001]])"
   ]
  },
  {
   "cell_type": "code",
   "execution_count": 8,
   "metadata": {},
   "outputs": [],
   "source": [
    "import keras, keras.layers as L, keras.backend as K"
   ]
  },
  {
   "cell_type": "code",
   "execution_count": 9,
   "metadata": {},
   "outputs": [],
   "source": [
    "def build_deep_autoencoder(seq_shape, code_size):\n",
    "\n",
    "    # encoder\n",
    "    encoder = keras.models.Sequential()\n",
    "    encoder.add(L.InputLayer(seq_shape))\n",
    "    \n",
    "    encoder.add(L.Conv1D(filters=16, kernel_size=3, activation='elu', padding='same'))\n",
    "    encoder.add(L.MaxPooling1D())\n",
    "    encoder.add(L.Conv1D(filters=64, kernel_size=3, activation='elu', padding='same'))\n",
    "    encoder.add(L.MaxPooling1D())\n",
    "    encoder.add(L.Conv1D(filters=128, kernel_size=3, activation='elu', padding='same'))\n",
    "    encoder.add(L.MaxPooling1D())\n",
    "    encoder.add(L.Conv1D(filters=256, kernel_size=3, activation='elu', padding='same'))\n",
    "    encoder.add(L.MaxPooling1D())\n",
    "    encoder.add(L.Flatten())\n",
    "    encoder.add(L.Dense(code_size))\n",
    "\n",
    "    # decoder\n",
    "    decoder = keras.models.Sequential()\n",
    "    decoder.add(L.InputLayer((code_size,)))\n",
    "    \n",
    "    decoder.add(L.Dense(1000*65))\n",
    "    decoder.add(L.Reshape((1000, 65)))\n",
    "    \n",
    "    return encoder, decoder"
   ]
  },
  {
   "cell_type": "code",
   "execution_count": 10,
   "metadata": {},
   "outputs": [
    {
     "name": "stdout",
     "output_type": "stream",
     "text": [
      "Model: \"sequential_1\"\n",
      "_________________________________________________________________\n",
      "Layer (type)                 Output Shape              Param #   \n",
      "=================================================================\n",
      "conv1d_1 (Conv1D)            (None, 1000, 16)          3136      \n",
      "_________________________________________________________________\n",
      "max_pooling1d_1 (MaxPooling1 (None, 500, 16)           0         \n",
      "_________________________________________________________________\n",
      "conv1d_2 (Conv1D)            (None, 500, 64)           3136      \n",
      "_________________________________________________________________\n",
      "max_pooling1d_2 (MaxPooling1 (None, 250, 64)           0         \n",
      "_________________________________________________________________\n",
      "conv1d_3 (Conv1D)            (None, 250, 128)          24704     \n",
      "_________________________________________________________________\n",
      "max_pooling1d_3 (MaxPooling1 (None, 125, 128)          0         \n",
      "_________________________________________________________________\n",
      "conv1d_4 (Conv1D)            (None, 125, 256)          98560     \n",
      "_________________________________________________________________\n",
      "max_pooling1d_4 (MaxPooling1 (None, 62, 256)           0         \n",
      "_________________________________________________________________\n",
      "flatten_1 (Flatten)          (None, 15872)             0         \n",
      "_________________________________________________________________\n",
      "dense_1 (Dense)              (None, 2)                 31746     \n",
      "=================================================================\n",
      "Total params: 161,282\n",
      "Trainable params: 161,282\n",
      "Non-trainable params: 0\n",
      "_________________________________________________________________\n",
      "Model: \"sequential_2\"\n",
      "_________________________________________________________________\n",
      "Layer (type)                 Output Shape              Param #   \n",
      "=================================================================\n",
      "dense_2 (Dense)              (None, 65000)             195000    \n",
      "_________________________________________________________________\n",
      "reshape_1 (Reshape)          (None, 1000, 65)          0         \n",
      "=================================================================\n",
      "Total params: 195,000\n",
      "Trainable params: 195,000\n",
      "Non-trainable params: 0\n",
      "_________________________________________________________________\n"
     ]
    }
   ],
   "source": [
    "seq_shape=X[0].shape\n",
    "code_size=2\n",
    "encoder, decoder = build_deep_autoencoder(seq_shape, code_size=2)\n",
    "encoder.summary()\n",
    "decoder.summary()"
   ]
  },
  {
   "cell_type": "code",
   "execution_count": 11,
   "metadata": {},
   "outputs": [],
   "source": [
    "encoder, decoder = build_deep_autoencoder(seq_shape, code_size=2)\n",
    "\n",
    "inp = L.Input(seq_shape)\n",
    "code = encoder(inp)\n",
    "reconstruction = decoder(code)\n",
    "\n",
    "autoencoder = keras.models.Model(inputs=inp, outputs=reconstruction)\n",
    "autoencoder.compile(optimizer=\"adamax\", loss='mse')"
   ]
  },
  {
   "cell_type": "code",
   "execution_count": 16,
   "metadata": {
    "scrolled": false
   },
   "outputs": [
    {
     "name": "stdout",
     "output_type": "stream",
     "text": [
      "Epoch 1/10\n",
      "50000/50000 [==============================] - 293s 6ms/step - loss: 6.7545e-04\n",
      "Epoch 2/10\n",
      "50000/50000 [==============================] - 289s 6ms/step - loss: 6.7422e-04\n",
      "Epoch 3/10\n",
      "50000/50000 [==============================] - 954s 19ms/step - loss: 6.7273e-04\n",
      "Epoch 4/10\n",
      "50000/50000 [==============================] - 310s 6ms/step - loss: 6.7187e-04\n",
      "Epoch 5/10\n",
      "50000/50000 [==============================] - 325s 7ms/step - loss: 6.7152e-04\n",
      "Epoch 6/10\n",
      "50000/50000 [==============================] - 711s 14ms/step - loss: 6.7137e-04\n",
      "Epoch 7/10\n",
      "50000/50000 [==============================] - 371s 7ms/step - loss: 6.7131e-04\n",
      "Epoch 8/10\n",
      "50000/50000 [==============================] - 382s 8ms/step - loss: 6.7128e-04\n",
      "Epoch 9/10\n",
      "50000/50000 [==============================] - 365s 7ms/step - loss: 6.7127e-04\n",
      "Epoch 10/10\n",
      "50000/50000 [==============================] - 367s 7ms/step - loss: 6.7125e-04\n"
     ]
    },
    {
     "data": {
      "text/plain": [
       "<keras.callbacks.callbacks.History at 0x135923f90>"
      ]
     },
     "execution_count": 16,
     "metadata": {},
     "output_type": "execute_result"
    }
   ],
   "source": [
    "#Fitting for 10 iterations. This hyperparameter can be fine-tuned.\n",
    "autoencoder.fit(x=X, y=X, epochs=10,verbose=1)"
   ]
  },
  {
   "cell_type": "code",
   "execution_count": 17,
   "metadata": {},
   "outputs": [],
   "source": [
    "encoded=encoder.predict(X)"
   ]
  },
  {
   "cell_type": "code",
   "execution_count": 18,
   "metadata": {},
   "outputs": [
    {
     "data": {
      "image/png": "[encoded data removed]",
      "text/plain": [
       "<Figure size 432x288 with 1 Axes>"
      ]
     },
     "metadata": {
      "needs_background": "light"
     },
     "output_type": "display_data"
    }
   ],
   "source": [
    "import matplotlib.pyplot as plt\n",
    "plt.scatter(encoded.T[0], encoded.T[1], color='b')\n",
    "plt.show()"
   ]
  }
 ],
 "metadata": {
  "kernelspec": {
   "display_name": "Python 2",
   "language": "python",
   "name": "python2"
  },
  "language_info": {
   "codemirror_mode": {
    "name": "ipython",
    "version": 2
   },
   "file_extension": ".py",
   "mimetype": "text/x-python",
   "name": "python",
   "nbconvert_exporter": "python",
   "pygments_lexer": "ipython2",
   "version": "2.7.18"
  }
 },
 "nbformat": 4,
 "nbformat_minor": 2
}
