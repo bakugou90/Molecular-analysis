{
  "nbformat": 4,
  "nbformat_minor": 0,
  "metadata": {
    "colab": {
      "name": "Untitled0.ipynb",
      "provenance": []
    },
    "kernelspec": {
      "name": "python3",
      "display_name": "Python 3"
    },
    "language_info": {
      "name": "python"
    },
    "accelerator": "TPU"
  },
  "cells": [
    {
      "cell_type": "code",
      "metadata": {
        "id": "Ft5KapvCNp8a"
      },
      "source": [
        "import pandas as pd\n",
        "data = pd.read_csv(\"logP_dataset.csv\")"
      ],
      "execution_count": 51,
      "outputs": []
    },
    {
      "cell_type": "code",
      "metadata": {
        "id": "rmzqtEzIN0n5"
      },
      "source": [
        "import matplotlib.pyplot as plt\n",
        "plt.style.use('seaborn-white')\n",
        "import pandas as pd\n",
        "import numpy as np"
      ],
      "execution_count": 52,
      "outputs": []
    },
    {
      "cell_type": "code",
      "metadata": {
        "id": "isBrfyw4Otuw",
        "colab": {
          "base_uri": "https://localhost:8080/",
          "height": 37
        },
        "outputId": "a4e46de0-0318-4921-bb9e-caf9de83a9f6"
      },
      "source": [
        "import os\n",
        "os.getcwd()"
      ],
      "execution_count": 53,
      "outputs": [
        {
          "output_type": "execute_result",
          "data": {
            "application/vnd.google.colaboratory.intrinsic+json": {
              "type": "string"
            },
            "text/plain": [
              "'/content/drive/My Drive'"
            ]
          },
          "metadata": {
            "tags": []
          },
          "execution_count": 53
        }
      ]
    },
    {
      "cell_type": "code",
      "metadata": {
        "id": "XYu7CGJ8RhpF",
        "colab": {
          "base_uri": "https://localhost:8080/"
        },
        "outputId": "57417144-f26f-4ac9-cbc2-93fd307d6435"
      },
      "source": [
        "set(''.join(data['smiles']))"
      ],
      "execution_count": 54,
      "outputs": [
        {
          "output_type": "execute_result",
          "data": {
            "text/plain": [
              "{'#',\n",
              " '(',\n",
              " ')',\n",
              " '+',\n",
              " '-',\n",
              " '.',\n",
              " '/',\n",
              " '0',\n",
              " '1',\n",
              " '2',\n",
              " '3',\n",
              " '4',\n",
              " '5',\n",
              " '6',\n",
              " '7',\n",
              " '8',\n",
              " '9',\n",
              " '=',\n",
              " '@',\n",
              " 'B',\n",
              " 'C',\n",
              " 'F',\n",
              " 'H',\n",
              " 'I',\n",
              " 'N',\n",
              " 'O',\n",
              " 'P',\n",
              " 'S',\n",
              " '[',\n",
              " '\\\\',\n",
              " ']',\n",
              " 'l',\n",
              " 'r'}"
            ]
          },
          "metadata": {
            "tags": []
          },
          "execution_count": 54
        }
      ]
    },
    {
      "cell_type": "code",
      "metadata": {
        "colab": {
          "base_uri": "https://localhost:8080/",
          "height": 37
        },
        "id": "6gbwWecnXxfB",
        "outputId": "bdf7d888-c265-4cfc-b8cb-1c69eeaa1534"
      },
      "source": [
        "import re\n",
        "\n",
        "regex = re.compile('[^a-zA-Z]')\n",
        "#First parameter is the replacement, second parameter is your input string\n",
        "regex.sub('', 'ab3d*E')\n",
        "#Out: 'abdE'"
      ],
      "execution_count": 55,
      "outputs": [
        {
          "output_type": "execute_result",
          "data": {
            "application/vnd.google.colaboratory.intrinsic+json": {
              "type": "string"
            },
            "text/plain": [
              "'abdE'"
            ]
          },
          "metadata": {
            "tags": []
          },
          "execution_count": 55
        }
      ]
    },
    {
      "cell_type": "code",
      "metadata": {
        "id": "F7LDqnzbYU-e"
      },
      "source": [
        "data['Simple_SMILES']=data['smiles'].apply(lambda x: regex.sub('',x))\n"
      ],
      "execution_count": 56,
      "outputs": []
    },
    {
      "cell_type": "code",
      "metadata": {
        "id": "fogVj97ZYeR1"
      },
      "source": [
        "elements=[*set(''.join(data['Simple_SMILES']))]"
      ],
      "execution_count": 57,
      "outputs": []
    },
    {
      "cell_type": "code",
      "metadata": {
        "id": "c-Z72bJNYk1H"
      },
      "source": [
        "for element in elements:\n",
        "    data[element]=data['Simple_SMILES'].apply(lambda x:sum(map(lambda y: 1 if element in y else 0, x)))"
      ],
      "execution_count": 58,
      "outputs": []
    },
    {
      "cell_type": "code",
      "metadata": {
        "id": "M1fKORIYeCkD"
      },
      "source": [
        "X = data[elements]\n",
        "y = data[\"logp\"]\n",
        "\n",
        "import numpy as np\n",
        "from sklearn.model_selection import train_test_split\n",
        "\n",
        "X_train, X_test, y_train, y_test = train_test_split(X, y, test_size=0.33, random_state=42)"
      ],
      "execution_count": 59,
      "outputs": []
    },
    {
      "cell_type": "code",
      "metadata": {
        "id": "39gxMeq_Yr7g"
      },
      "source": [
        "from sklearn.svm import SVR\n",
        "from sklearn.pipeline import make_pipeline\n",
        "from sklearn.preprocessing import StandardScaler\n",
        "\n",
        "regr = make_pipeline(StandardScaler(), SVR(C=1.0, epsilon=0.2))\n",
        "regr.fit(X_train, y_train)\n",
        "pred_logp = regr.predict(X_test)"
      ],
      "execution_count": 60,
      "outputs": []
    },
    {
      "cell_type": "code",
      "metadata": {
        "colab": {
          "base_uri": "https://localhost:8080/"
        },
        "id": "Tcd0FWFBZBoT",
        "outputId": "21f8b90e-96e2-4dfe-ef4c-bb9b597016e0"
      },
      "source": [
        "#import necessary libraries\n",
        "from sklearn.metrics import mean_squared_error\n",
        "from math import sqrt\n",
        "\n",
        "#calculate RMSE\n",
        "sqrt(mean_squared_error(y_test, pred_logp))"
      ],
      "execution_count": 61,
      "outputs": [
        {
          "output_type": "execute_result",
          "data": {
            "text/plain": [
              "0.49728347638198517"
            ]
          },
          "metadata": {
            "tags": []
          },
          "execution_count": 61
        }
      ]
    }
  ]
}